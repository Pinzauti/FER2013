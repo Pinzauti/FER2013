{
  "cells": [
    {
      "cell_type": "markdown",
      "source": [
        "# Checking CPU and GPU status"
      ],
      "metadata": {
        "id": "nI_mK3ay3ocV"
      }
    },
    {
      "cell_type": "code",
      "source": [
        "import torch\n",
        "device = torch.device('cuda' if torch.cuda.is_available() else 'cpu')\n",
        "device"
      ],
      "outputs": [
        {
          "output_type": "execute_result",
          "execution_count": 1,
          "data": {
            "text/plain": "device(type='cuda')"
          },
          "metadata": {}
        }
      ],
      "execution_count": 1,
      "metadata": {
        "colab": {
          "base_uri": "https://localhost:8080/"
        },
        "id": "zcZM29oz3oti",
        "executionInfo": {
          "status": "ok",
          "timestamp": 1639562935958,
          "user_tz": -60,
          "elapsed": 299,
          "user": {
            "displayName": "Francesco Pinzauti",
            "photoUrl": "https://lh3.googleusercontent.com/a-/AOh14GiBJwOJ9_g_IpuVe5RHc5_1HXGO9qs-Syw6tZQuXIA=s64",
            "userId": "12363024399164120826"
          }
        },
        "outputId": "1c4b4fa8-9906-4fb7-bd24-df423b6e263e",
        "gather": {
          "logged": 1639603188027
        }
      }
    },
    {
      "cell_type": "markdown",
      "source": [
        "# Loading and analysing the dataset"
      ],
      "metadata": {
        "id": "ZFBUg2Pl1r-q"
      }
    },
    {
      "cell_type": "markdown",
      "source": [
        "## Importing the dataset\r\n",
        "\r\n",
        "We import the dataset and converts it to a pandas dataframe. This project was developed using [Microsoft Azure Machine Learning Studio](https://azure.microsoft.com/) instead of [Google Colab](https://colab.research.google.com/) as the latter is significantly slower; \r\n",
        "because of this the following chunk of code might look a little bit different than usual."
      ],
      "metadata": {
        "nteract": {
          "transient": {
            "deleting": false
          }
        }
      }
    },
    {
      "cell_type": "code",
      "source": [
        "import numpy as np\n",
        "from azureml.core import Workspace, Dataset\n",
        "\n",
        "subscription_id = 'ed1a640d-cd7a-43ba-ac37-d539b7fce5f1'\n",
        "resource_group = 'DeepLearning'\n",
        "workspace_name = 'Assignment'\n",
        "\n",
        "workspace = Workspace(subscription_id, resource_group, workspace_name)\n",
        "\n",
        "data = Dataset.get_by_name(workspace, name='fer2013')\n",
        "data = data.to_pandas_dataframe()\n",
        "\n",
        "data.head()"
      ],
      "outputs": [
        {
          "output_type": "execute_result",
          "execution_count": 2,
          "data": {
            "text/plain": "   emotion                                             pixels     Usage\n0        0  70 80 82 72 58 58 60 63 54 58 60 48 89 115 121...  Training\n1        0  151 150 147 155 148 133 111 140 170 174 182 15...  Training\n2        2  231 212 156 164 174 138 161 173 182 200 106 38...  Training\n3        4  24 32 36 30 32 23 19 20 30 41 21 22 32 34 21 1...  Training\n4        6  4 0 0 0 0 0 0 0 0 0 0 0 3 15 23 28 48 50 58 84...  Training",
            "text/html": "<div>\n<style scoped>\n    .dataframe tbody tr th:only-of-type {\n        vertical-align: middle;\n    }\n\n    .dataframe tbody tr th {\n        vertical-align: top;\n    }\n\n    .dataframe thead th {\n        text-align: right;\n    }\n</style>\n<table border=\"1\" class=\"dataframe\">\n  <thead>\n    <tr style=\"text-align: right;\">\n      <th></th>\n      <th>emotion</th>\n      <th>pixels</th>\n      <th>Usage</th>\n    </tr>\n  </thead>\n  <tbody>\n    <tr>\n      <th>0</th>\n      <td>0</td>\n      <td>70 80 82 72 58 58 60 63 54 58 60 48 89 115 121...</td>\n      <td>Training</td>\n    </tr>\n    <tr>\n      <th>1</th>\n      <td>0</td>\n      <td>151 150 147 155 148 133 111 140 170 174 182 15...</td>\n      <td>Training</td>\n    </tr>\n    <tr>\n      <th>2</th>\n      <td>2</td>\n      <td>231 212 156 164 174 138 161 173 182 200 106 38...</td>\n      <td>Training</td>\n    </tr>\n    <tr>\n      <th>3</th>\n      <td>4</td>\n      <td>24 32 36 30 32 23 19 20 30 41 21 22 32 34 21 1...</td>\n      <td>Training</td>\n    </tr>\n    <tr>\n      <th>4</th>\n      <td>6</td>\n      <td>4 0 0 0 0 0 0 0 0 0 0 0 3 15 23 28 48 50 58 84...</td>\n      <td>Training</td>\n    </tr>\n  </tbody>\n</table>\n</div>"
          },
          "metadata": {}
        }
      ],
      "execution_count": 2,
      "metadata": {
        "id": "gJV3DeFRwzIy",
        "colab": {
          "base_uri": "https://localhost:8080/",
          "height": 206
        },
        "executionInfo": {
          "status": "ok",
          "timestamp": 1639562940621,
          "user_tz": -60,
          "elapsed": 4363,
          "user": {
            "displayName": "Francesco Pinzauti",
            "photoUrl": "https://lh3.googleusercontent.com/a-/AOh14GiBJwOJ9_g_IpuVe5RHc5_1HXGO9qs-Syw6tZQuXIA=s64",
            "userId": "12363024399164120826"
          }
        },
        "outputId": "0d6e47ea-6738-4036-8ede-5014bca19642",
        "gather": {
          "logged": 1639603194586
        }
      }
    },
    {
      "cell_type": "markdown",
      "source": [
        "## Plotting the labels\r\n",
        "Here we plot a graph with the number of emoctions samples in the dataset, we notice that it is significantly unmbalanced."
      ],
      "metadata": {
        "nteract": {
          "transient": {
            "deleting": false
          }
        }
      }
    },
    {
      "cell_type": "code",
      "source": [
        "import seaborn as sns\n",
        "import matplotlib.pyplot as plt\n",
        "lookup = ('anger', 'disgust', 'fear', 'happiness', 'sadness', 'surprise', 'neutral')\n",
        "y = data['emotion']\n",
        "sns.countplot(x=y)\n",
        "plt.xticks(range(7), lookup);\n"
      ],
      "outputs": [],
      "execution_count": 3,
      "metadata": {
        "colab": {
          "base_uri": "https://localhost:8080/",
          "height": 279
        },
        "id": "t3Y_jipK5vFP",
        "executionInfo": {
          "status": "ok",
          "timestamp": 1639562940622,
          "user_tz": -60,
          "elapsed": 27,
          "user": {
            "displayName": "Francesco Pinzauti",
            "photoUrl": "https://lh3.googleusercontent.com/a-/AOh14GiBJwOJ9_g_IpuVe5RHc5_1HXGO9qs-Syw6tZQuXIA=s64",
            "userId": "12363024399164120826"
          }
        },
        "outputId": "ae3efc51-cc29-4a84-f2fa-153fd297d763",
        "gather": {
          "logged": 1639603195271
        }
      }
    },
    {
      "cell_type": "markdown",
      "source": [
        "## Formatting the dataset\r\n",
        "\r\n",
        "We format the data, splitting in training, validation and test set. We create a custom ```torch.utils.data.Dataset``` and use the usual ```torch.utils.data.DataLoader```.\r\n"
      ],
      "metadata": {
        "nteract": {
          "transient": {
            "deleting": false
          }
        }
      }
    },
    {
      "cell_type": "code",
      "source": [
        "data_train = data[data.Usage =='Training'].reset_index(drop=True) \n",
        "data_val = data[data.Usage =='PrivateTest'].reset_index(drop=True) \n",
        "data_test = data[data.Usage =='PublicTest'].reset_index(drop=True) \n",
        "\n",
        "print(data_train.shape,data_val.shape,data_test.shape)"
      ],
      "outputs": [
        {
          "output_type": "stream",
          "name": "stdout",
          "text": "(28709, 3) (3589, 3) (3589, 3)\n"
        }
      ],
      "execution_count": 4,
      "metadata": {
        "colab": {
          "base_uri": "https://localhost:8080/"
        },
        "id": "k7H3_12VcKQO",
        "executionInfo": {
          "status": "ok",
          "timestamp": 1639562940623,
          "user_tz": -60,
          "elapsed": 25,
          "user": {
            "displayName": "Francesco Pinzauti",
            "photoUrl": "https://lh3.googleusercontent.com/a-/AOh14GiBJwOJ9_g_IpuVe5RHc5_1HXGO9qs-Syw6tZQuXIA=s64",
            "userId": "12363024399164120826"
          }
        },
        "outputId": "8ef74990-e4d7-41c1-a234-d97d69f799bb",
        "gather": {
          "logged": 1639603195427
        }
      }
    },
    {
      "cell_type": "markdown",
      "source": [
        "Custom Dataset."
      ],
      "metadata": {
        "nteract": {
          "transient": {
            "deleting": false
          }
        }
      }
    },
    {
      "cell_type": "code",
      "source": [
        "class FER2013(torch.utils.data.Dataset):\n",
        "    def __init__(self, data, transforms=None):\n",
        "        self.data = data\n",
        "        self.transforms = transforms\n",
        "\n",
        "    def __len__(self):\n",
        "        return len(self.data)\n",
        "\n",
        "    def __getitem__(self, index):\n",
        "        row = self.data.loc[index]\n",
        "        image, label = np.array([x.split() for x in self.data.loc[index, ['pixels']]]), row['emotion']\n",
        "        image = np.asarray(image).astype(np.uint8).reshape(48, 48, 1)\n",
        "\n",
        "        if self.transforms:\n",
        "            image = self.transforms(image)\n",
        "\n",
        "        return image, label"
      ],
      "outputs": [],
      "execution_count": 5,
      "metadata": {
        "id": "KwvGkyf_qlTj",
        "executionInfo": {
          "status": "ok",
          "timestamp": 1639562940624,
          "user_tz": -60,
          "elapsed": 23,
          "user": {
            "displayName": "Francesco Pinzauti",
            "photoUrl": "https://lh3.googleusercontent.com/a-/AOh14GiBJwOJ9_g_IpuVe5RHc5_1HXGO9qs-Syw6tZQuXIA=s64",
            "userId": "12363024399164120826"
          }
        },
        "gather": {
          "logged": 1639603195607
        }
      }
    },
    {
      "cell_type": "markdown",
      "source": [
        "## Transformations\r\n",
        "Here we define some transformations."
      ],
      "metadata": {
        "nteract": {
          "transient": {
            "deleting": false
          }
        }
      }
    },
    {
      "cell_type": "code",
      "source": [
        "import torchvision\n",
        "\n",
        "trfm_train = torchvision.transforms.Compose(\n",
        "    [\n",
        "        torchvision.transforms.ToPILImage(),\n",
        "        torchvision.transforms.Grayscale(num_output_channels=1),\n",
        "        torchvision.transforms.RandomHorizontalFlip(),\n",
        "        torchvision.transforms.ToTensor(),\n",
        "        torchvision.transforms.Normalize((0.5), (0.5))\n",
        "    ])\n",
        "trfm_val_test = torchvision.transforms.Compose(\n",
        "    [\n",
        "        torchvision.transforms.ToPILImage(),\n",
        "        torchvision.transforms.Grayscale(num_output_channels=1),\n",
        "        torchvision.transforms.ToTensor(),\n",
        "        torchvision.transforms.Normalize((0.5), (0.5))\n",
        "    ])\n",
        "\n",
        "data_train = FER2013(data_train, trfm_train)\n",
        "data_val = FER2013(data_val, trfm_val_test)\n",
        "data_test = FER2013(data_test, trfm_val_test)\n",
        "\n",
        "data_train[0]"
      ],
      "outputs": [
        {
          "output_type": "execute_result",
          "execution_count": 6,
          "data": {
            "text/plain": "(tensor([[[-0.4510, -0.3725, -0.3569,  ..., -0.5922, -0.6627, -0.6784],\n          [-0.4902, -0.5216, -0.5451,  ..., -0.5608, -0.5922, -0.6549],\n          [-0.6078, -0.6627, -0.5765,  ..., -0.6157, -0.5608, -0.6314],\n          ...,\n          [-0.2863, -0.4902, -0.6706,  ..., -0.4353, -0.5608, -0.6627],\n          [-0.3961, -0.3569, -0.3804,  ..., -0.1765, -0.4510, -0.6392],\n          [-0.3961, -0.4353, -0.3412,  ..., -0.1686, -0.1451, -0.3569]]]),\n 0)"
          },
          "metadata": {}
        }
      ],
      "execution_count": 6,
      "metadata": {
        "id": "v65-SgzwLMtY",
        "executionInfo": {
          "status": "ok",
          "timestamp": 1639562940932,
          "user_tz": -60,
          "elapsed": 330,
          "user": {
            "displayName": "Francesco Pinzauti",
            "photoUrl": "https://lh3.googleusercontent.com/a-/AOh14GiBJwOJ9_g_IpuVe5RHc5_1HXGO9qs-Syw6tZQuXIA=s64",
            "userId": "12363024399164120826"
          }
        },
        "colab": {
          "base_uri": "https://localhost:8080/"
        },
        "outputId": "bf56107e-0ee5-4a07-9b6f-9db95782162c",
        "gather": {
          "logged": 1639603195770
        }
      }
    },
    {
      "cell_type": "code",
      "source": [
        "batch_size = 128\n",
        "\n",
        "loader_train = torch.utils.data.DataLoader(data_train, batch_size,\n",
        "shuffle=True, pin_memory=True)\n",
        "loader_val = torch.utils.data.DataLoader(data_val, batch_size, pin_memory=True)\n",
        "loader_test = torch.utils.data.DataLoader(data_test, batch_size, pin_memory=True)"
      ],
      "outputs": [],
      "execution_count": 7,
      "metadata": {
        "id": "Jsgqk345wy8O",
        "executionInfo": {
          "status": "ok",
          "timestamp": 1639562940933,
          "user_tz": -60,
          "elapsed": 3,
          "user": {
            "displayName": "Francesco Pinzauti",
            "photoUrl": "https://lh3.googleusercontent.com/a-/AOh14GiBJwOJ9_g_IpuVe5RHc5_1HXGO9qs-Syw6tZQuXIA=s64",
            "userId": "12363024399164120826"
          }
        },
        "gather": {
          "logged": 1639603195912
        }
      }
    },
    {
      "cell_type": "markdown",
      "source": [
        "## Show batch sample\r\n",
        "We show a sample of a batch of the training set, just to visualize the images and for being sure that after the transformations everything is fine."
      ],
      "metadata": {
        "nteract": {
          "transient": {
            "deleting": false
          }
        }
      }
    },
    {
      "cell_type": "code",
      "source": [
        "def show_batch(dl):\n",
        "    for images, labels in dl:\n",
        "        fig, ax = plt.subplots(figsize=(12, 6))\n",
        "        ax.set_xticks([]); ax.set_yticks([])\n",
        "        ax.imshow(torchvision.utils.make_grid(images, nrow=8).permute(1, 2, 0))\n",
        "        break\n",
        "\n",
        "show_batch(loader_train)"
      ],
      "outputs": [
        {
          "output_type": "stream",
          "name": "stderr",
          "text": "Clipping input data to the valid range for imshow with RGB data ([0..1] for floats or [0..255] for integers).\n"
        },
        {
          "output_type": "display_data",
          "data": {
            "text/plain": "<Figure size 864x432 with 1 Axes>",
            "image/png": "[encoded data removed]"
          },
          "metadata": {}
        }
      ],
      "execution_count": 8,
      "metadata": {
        "colab": {
          "base_uri": "https://localhost:8080/",
          "height": 361
        },
        "id": "OLxLfxRu_dSX",
        "executionInfo": {
          "status": "ok",
          "timestamp": 1639562942182,
          "user_tz": -60,
          "elapsed": 1252,
          "user": {
            "displayName": "Francesco Pinzauti",
            "photoUrl": "https://lh3.googleusercontent.com/a-/AOh14GiBJwOJ9_g_IpuVe5RHc5_1HXGO9qs-Syw6tZQuXIA=s64",
            "userId": "12363024399164120826"
          }
        },
        "outputId": "508c2e85-cc74-43ca-9f8d-326630405cf5",
        "gather": {
          "logged": 1639603197608
        }
      }
    },
    {
      "cell_type": "markdown",
      "source": [
        "# Training and validation"
      ],
      "metadata": {
        "nteract": {
          "transient": {
            "deleting": false
          }
        }
      }
    },
    {
      "cell_type": "markdown",
      "source": [
        "## The model\r\n",
        "Here we have the actual model. A function conv_block was created containing some operations which are repeated in the model."
      ],
      "metadata": {
        "nteract": {
          "transient": {
            "deleting": false
          }
        }
      }
    },
    {
      "cell_type": "code",
      "source": [
        "class Model_base(torch.nn.Module):\n",
        "    def training_step(self, batch):\n",
        "        images, labels = batch \n",
        "        images = images.to(device)\n",
        "        labels = labels.to(device)\n",
        "        out = self(images)                 \n",
        "        loss = torch.nn.functional.cross_entropy(out, labels)\n",
        "        return loss\n",
        "    \n",
        "    def validation_step(self, batch):\n",
        "        images, labels = batch \n",
        "        images = images.to(device)\n",
        "        labels = labels.to(device)\n",
        "        out = self(images)                    \n",
        "        loss = torch.nn.functional.cross_entropy(out, labels)   \n",
        "        acc = accuracy(out, labels)         \n",
        "        return {'val_loss': loss.detach(), 'val_acc': acc}\n",
        "        \n",
        "    def validation_epoch_end(self, outputs):\n",
        "        batch_losses = [x['val_loss'] for x in outputs]\n",
        "        epoch_loss = torch.stack(batch_losses).mean()  \n",
        "        batch_accs = [x['val_acc'] for x in outputs]\n",
        "        epoch_acc = torch.stack(batch_accs).mean()     \n",
        "        return {'val_loss': epoch_loss.item(), 'val_acc': epoch_acc.item()}\n",
        "    \n",
        "    def epoch_end(self, epoch, result):\n",
        "        print(\"Epoch [{}], train_loss: {:.4f}, val_loss: {:.4f}, val_acc: {:.4f}\".format(\n",
        "            epoch, result['train_loss'], result['val_loss'], result['val_acc']))"
      ],
      "outputs": [],
      "execution_count": 9,
      "metadata": {
        "id": "fvCFws7LNyLa",
        "executionInfo": {
          "status": "ok",
          "timestamp": 1639562942183,
          "user_tz": -60,
          "elapsed": 6,
          "user": {
            "displayName": "Francesco Pinzauti",
            "photoUrl": "https://lh3.googleusercontent.com/a-/AOh14GiBJwOJ9_g_IpuVe5RHc5_1HXGO9qs-Syw6tZQuXIA=s64",
            "userId": "12363024399164120826"
          }
        },
        "gather": {
          "logged": 1639603197698
        }
      }
    },
    {
      "cell_type": "code",
      "source": [
        "def conv_block(in_chnl, out_chnl, padding=1):\n",
        "    layers = [\n",
        "        torch.nn.Conv2d(in_chnl, out_chnl, kernel_size=3, padding=padding, stride=1),\n",
        "        torch.nn.ReLU(),\n",
        "        torch.nn.BatchNorm2d(out_chnl),\n",
        "        torch.nn.MaxPool2d(2),\n",
        "        torch.nn.Dropout(0.4)]\n",
        "    return torch.nn.Sequential(*layers)\n",
        "\n",
        "class Model(Model_base):\n",
        "   def __init__(self, in_chnls, num_cls):\n",
        "        super().__init__()\n",
        "        \n",
        "        self.conv1 = torch.nn.Conv2d(in_chnls, 256, kernel_size=3, padding=1) # 256x48x48\n",
        "        self.block1 = conv_block(256, 512)           # 512x24x24 \n",
        "        self.block2 = conv_block(512, 384)                # 384x12x12       \n",
        "        self.block3 = conv_block(384, 192)       # 192x6x6 \n",
        "        self.block4 = conv_block(192, 384)       # 384x3x3\n",
        "    \n",
        "        self.classifier = torch.nn.Sequential(torch.nn.Flatten(),\n",
        "                                        torch.nn.Linear(3456, 256),\n",
        "                                        torch.nn.ReLU(),\n",
        "                                        torch.nn.BatchNorm1d(256),\n",
        "                                        torch.nn.Dropout(0.3),\n",
        "                                        torch.nn.Linear(256, num_cls))    \n",
        "   def forward(self, xb):\n",
        "        out = self.conv1(xb)\n",
        "        out = self.block1(out)\n",
        "        out = self.block2(out)       \n",
        "        out = self.block3(out)\n",
        "        out = self.block4(out)\n",
        "        \n",
        "        return self.classifier(out)"
      ],
      "outputs": [],
      "execution_count": 10,
      "metadata": {
        "id": "QgDr9uGzK1PO",
        "executionInfo": {
          "status": "ok",
          "timestamp": 1639562942183,
          "user_tz": -60,
          "elapsed": 6,
          "user": {
            "displayName": "Francesco Pinzauti",
            "photoUrl": "https://lh3.googleusercontent.com/a-/AOh14GiBJwOJ9_g_IpuVe5RHc5_1HXGO9qs-Syw6tZQuXIA=s64",
            "userId": "12363024399164120826"
          }
        },
        "gather": {
          "logged": 1639603197844
        }
      }
    },
    {
      "cell_type": "markdown",
      "source": [
        "## Training and evaluation loop\r\n",
        "The usual training and evaluation loop."
      ],
      "metadata": {
        "nteract": {
          "transient": {
            "deleting": false
          }
        }
      }
    },
    {
      "cell_type": "code",
      "source": [
        "def accuracy(outputs, labels):\n",
        "    _, preds = torch.max(outputs, dim=1)\n",
        "    return torch.tensor(torch.sum(preds == labels).item() / len(preds))\n",
        "    \n",
        "@torch.no_grad()\n",
        "def evaluate(model, val_loader):\n",
        "    model.eval()\n",
        "    outputs = [model.validation_step(batch) for batch in val_loader]\n",
        "    return model.validation_epoch_end(outputs)\n",
        "\n",
        "def fit(epochs, lr, model, loader_train, loader_val, opt_func):\n",
        "    history = []\n",
        "    optimizer = opt_func(model.parameters(), lr)\n",
        "    for epoch in range(epochs):\n",
        "        # Training Phase \n",
        "        model.train()\n",
        "        train_losses = []\n",
        "        for batch in loader_train:\n",
        "            loss = model.training_step(batch)\n",
        "            train_losses.append(loss)\n",
        "            loss.backward()\n",
        "            optimizer.step()\n",
        "            optimizer.zero_grad()\n",
        "        # Validation phase\n",
        "        result = evaluate(model, loader_val)\n",
        "        result['train_loss'] = torch.stack(train_losses).mean().item()\n",
        "        model.epoch_end(epoch, result)\n",
        "        history.append(result)\n",
        "    return history"
      ],
      "outputs": [],
      "execution_count": 11,
      "metadata": {
        "id": "d-Ts51mnwx4A",
        "executionInfo": {
          "status": "ok",
          "timestamp": 1639562942184,
          "user_tz": -60,
          "elapsed": 7,
          "user": {
            "displayName": "Francesco Pinzauti",
            "photoUrl": "https://lh3.googleusercontent.com/a-/AOh14GiBJwOJ9_g_IpuVe5RHc5_1HXGO9qs-Syw6tZQuXIA=s64",
            "userId": "12363024399164120826"
          }
        },
        "gather": {
          "logged": 1639603197949
        }
      }
    },
    {
      "cell_type": "markdown",
      "source": [
        "Here we define some parameters and we pass to the model the dimension of input and output."
      ],
      "metadata": {
        "nteract": {
          "transient": {
            "deleting": false
          }
        }
      }
    },
    {
      "cell_type": "code",
      "source": [
        "model = Model(1,7).to(device) \n",
        "optimizer = torch.optim.Adam\n",
        "lr=0.001\n",
        "num_epochs=20\n",
        "\n",
        "history = fit(num_epochs, lr, model, loader_train, loader_val, optimizer)\n"
      ],
      "outputs": [
        {
          "output_type": "stream",
          "name": "stdout",
          "text": "Epoch [0], train_loss: 1.7551, val_loss: 1.9582, val_acc: 0.3804\nEpoch [1], train_loss: 1.4654, val_loss: 1.3301, val_acc: 0.4908\nEpoch [2], train_loss: 1.3034, val_loss: 1.1763, val_acc: 0.5503\nEpoch [3], train_loss: 1.2024, val_loss: 1.2875, val_acc: 0.5226\nEpoch [4], train_loss: 1.1577, val_loss: 1.1234, val_acc: 0.5763\nEpoch [5], train_loss: 1.1082, val_loss: 1.0940, val_acc: 0.5830\nEpoch [6], train_loss: 1.0821, val_loss: 1.0632, val_acc: 0.5930\nEpoch [7], train_loss: 1.0752, val_loss: 1.0437, val_acc: 0.6023\nEpoch [8], train_loss: 1.0381, val_loss: 1.4740, val_acc: 0.6143\nEpoch [9], train_loss: 1.0203, val_loss: 1.0191, val_acc: 0.6297\nEpoch [10], train_loss: 0.9958, val_loss: 1.0158, val_acc: 0.6336\nEpoch [11], train_loss: 0.9704, val_loss: 1.0092, val_acc: 0.6286\nEpoch [12], train_loss: 0.9445, val_loss: 0.9938, val_acc: 0.6422\nEpoch [13], train_loss: 0.9591, val_loss: 1.0384, val_acc: 0.6422\nEpoch [14], train_loss: 0.9242, val_loss: 0.9656, val_acc: 0.6505\nEpoch [15], train_loss: 0.9058, val_loss: 1.2980, val_acc: 0.6530\nEpoch [16], train_loss: 0.8963, val_loss: 0.9506, val_acc: 0.6551\nEpoch [17], train_loss: 0.8817, val_loss: 0.9406, val_acc: 0.6695\nEpoch [18], train_loss: 0.8690, val_loss: 1.0352, val_acc: 0.6487\nEpoch [19], train_loss: 0.8492, val_loss: 1.2593, val_acc: 0.6507\n"
        }
      ],
      "execution_count": 12,
      "metadata": {
        "colab": {
          "base_uri": "https://localhost:8080/"
        },
        "id": "kCRnXtXVi-Mz",
        "outputId": "8a1b6dfb-1a73-4ef8-9b37-b7dc78844fea",
        "gather": {
          "logged": 1639606675687
        }
      }
    },
    {
      "cell_type": "markdown",
      "source": [
        "## Plot of the results"
      ],
      "metadata": {
        "nteract": {
          "transient": {
            "deleting": false
          }
        }
      }
    },
    {
      "cell_type": "code",
      "source": [
        "def plot_accuracies(history):\n",
        "    accuracies = [x['val_acc'] for x in history]\n",
        "    plt.plot(accuracies, '-x')\n",
        "    plt.xlabel('epoch')\n",
        "    plt.ylabel('accuracy')\n",
        "    plt.title('Accuracy vs N. of epochs');\n",
        "\n",
        "plot_accuracies(history)"
      ],
      "outputs": [
        {
          "output_type": "display_data",
          "data": {
            "text/plain": "<Figure size 432x288 with 1 Axes>",
            "image/png": "[encoded data removed]"
          },
          "metadata": {
            "needs_background": "light"
          }
        }
      ],
      "execution_count": 13,
      "metadata": {
        "id": "jKM6CZW1r5hM",
        "gather": {
          "logged": 1639606675889
        }
      }
    },
    {
      "cell_type": "code",
      "source": [
        "def plot_losses(history):\n",
        "    train_losses = [x.get('train_loss') for x in history]\n",
        "    val_losses = [x['val_loss'] for x in history]\n",
        "    plt.plot(train_losses, '-bx')\n",
        "    plt.plot(val_losses, '-rx')\n",
        "    plt.xlabel('epoch')\n",
        "    plt.ylabel('loss')\n",
        "    plt.legend(['Training', 'Validation'])\n",
        "    plt.title('Loss vs N. of epochs');\n",
        "\n",
        "plot_losses(history)"
      ],
      "outputs": [
        {
          "output_type": "display_data",
          "data": {
            "text/plain": "<Figure size 432x288 with 1 Axes>",
            "image/png": "[encoded data removed]"
          },
          "metadata": {
            "needs_background": "light"
          }
        }
      ],
      "execution_count": 14,
      "metadata": {
        "id": "eIPnULIJMHya",
        "gather": {
          "logged": 1639606676173
        }
      }
    },
    {
      "cell_type": "markdown",
      "source": [
        "# Testing and saving the model"
      ],
      "metadata": {
        "nteract": {
          "transient": {
            "deleting": false
          }
        }
      }
    },
    {
      "cell_type": "markdown",
      "source": [
        "Here we evaluate the performance on the testing set."
      ],
      "metadata": {
        "nteract": {
          "transient": {
            "deleting": false
          }
        }
      }
    },
    {
      "cell_type": "code",
      "source": [
        "evaluate(model, loader_test)"
      ],
      "outputs": [
        {
          "output_type": "execute_result",
          "execution_count": 15,
          "data": {
            "text/plain": "{'val_loss': 1.1838505268096924, 'val_acc': 0.6262931227684021}"
          },
          "metadata": {}
        }
      ],
      "execution_count": 15,
      "metadata": {
        "jupyter": {
          "source_hidden": false,
          "outputs_hidden": false
        },
        "nteract": {
          "transient": {
            "deleting": false
          }
        },
        "gather": {
          "logged": 1639606689832
        }
      }
    },
    {
      "cell_type": "markdown",
      "source": [
        "Here we manually compare the image and the emotion predicted by the network. We randomly picked the value 100 but it should be changed to check other images."
      ],
      "metadata": {
        "nteract": {
          "transient": {
            "deleting": false
          }
        }
      }
    },
    {
      "cell_type": "code",
      "source": [
        "def predict_image(img, model):\r\n",
        "    xb = img.unsqueeze(0).to(device)\r\n",
        "    yb = model(xb)\r\n",
        "    _, preds  = torch.max(yb, dim=1)\r\n",
        "    return preds[0].item()\r\n",
        "\r\n",
        "img, label = data_test[100] \r\n",
        "predict_image(img,model)\r\n",
        "label"
      ],
      "outputs": [
        {
          "output_type": "execute_result",
          "execution_count": 16,
          "data": {
            "text/plain": "3"
          },
          "metadata": {}
        }
      ],
      "execution_count": 16,
      "metadata": {
        "jupyter": {
          "source_hidden": false,
          "outputs_hidden": false
        },
        "nteract": {
          "transient": {
            "deleting": false
          }
        },
        "gather": {
          "logged": 1639606689943
        }
      }
    },
    {
      "cell_type": "code",
      "source": [
        "plt.imshow(img.squeeze(), cmap='gray')"
      ],
      "outputs": [
        {
          "output_type": "execute_result",
          "execution_count": 17,
          "data": {
            "text/plain": "<matplotlib.image.AxesImage at 0x7f654a3aee80>"
          },
          "metadata": {}
        },
        {
          "output_type": "display_data",
          "data": {
            "text/plain": "<Figure size 432x288 with 1 Axes>",
            "image/png": "[encoded data removed]"
          },
          "metadata": {
            "needs_background": "light"
          }
        }
      ],
      "execution_count": 17,
      "metadata": {
        "jupyter": {
          "source_hidden": false,
          "outputs_hidden": false
        },
        "nteract": {
          "transient": {
            "deleting": false
          }
        },
        "gather": {
          "logged": 1639606690065
        }
      }
    },
    {
      "cell_type": "markdown",
      "source": [
        "Saving the model."
      ],
      "metadata": {
        "nteract": {
          "transient": {
            "deleting": false
          }
        }
      }
    },
    {
      "cell_type": "code",
      "source": [
        "torch.save(model.state_dict(), './model.pt')"
      ],
      "outputs": [],
      "execution_count": 18,
      "metadata": {
        "jupyter": {
          "source_hidden": false,
          "outputs_hidden": false
        },
        "nteract": {
          "transient": {
            "deleting": false
          }
        },
        "gather": {
          "logged": 1639606690236
        }
      }
    }
  ],
  "metadata": {
    "colab": {
      "name": "Emotion Recognition with CNNs.ipynb",
      "provenance": [],
      "collapsed_sections": [],
      "mount_file_id": "1GQx4uplMFnPCeLZj1OWx0hBecMd6_zsd",
      "authorship_tag": "ABX9TyPrIo3pgT+ZFWXmjKQsubXD"
    },
    "kernelspec": {
      "name": "azureml_py38_pytorch",
      "language": "python",
      "display_name": "Python 3.8 - PyTorch"
    },
    "language_info": {
      "name": "python",
      "version": "3.8.1",
      "mimetype": "text/x-python",
      "codemirror_mode": {
        "name": "ipython",
        "version": 3
      },
      "pygments_lexer": "ipython3",
      "nbconvert_exporter": "python",
      "file_extension": ".py"
    },
    "accelerator": "TPU",
    "kernel_info": {
      "name": "azureml_py38_pytorch"
    },
    "microsoft": {
      "host": {
        "AzureML": {
          "notebookHasBeenCompleted": true
        }
      }
    },
    "nteract": {
      "version": "nteract-front-end@1.0.0"
    }
  },
  "nbformat": 4,
  "nbformat_minor": 0
}